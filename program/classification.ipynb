{
 "cells": [
  {
   "cell_type": "code",
   "execution_count": 2,
   "metadata": {},
   "outputs": [
    {
     "name": "stdout",
     "output_type": "stream",
     "text": [
      "i= 0\n",
      "labeldir= ../dataset\\1_book\n",
      "i= 1\n",
      "labeldir= ../dataset\\2_pen\n",
      "i= 2\n",
      "labeldir= ../dataset\\3_scissors\n",
      "i= 3\n",
      "labeldir= ../dataset\\4_amulet\n",
      "i= 4\n",
      "labeldir= ../dataset\\5_earphone\n",
      "i= 5\n",
      "labeldir= ../dataset\\6_mask\n",
      "i= 6\n",
      "labeldir= ../dataset\\7_mahjongtile\n",
      "i= 7\n",
      "labeldir= ../dataset\\dataset.pickle\n",
      "done!\n"
     ]
    }
   ],
   "source": [
    "import glob\n",
    "import cv2\n",
    "import matplotlib.pyplot as plt\n",
    "import pickle\n",
    "\n",
    "maxsize = 10000\n",
    "out_dir = \"../dataset\"\n",
    "save_file = out_dir + \"/dataset.pickle\" # 保存先\n",
    "\n",
    "\n",
    "result = []\n",
    "fs = glob.glob(out_dir+\"/*\")\n",
    "for i,labeldir in enumerate(fs):\n",
    "    print(\"i=\",i)\n",
    "    print(\"labeldir=\",labeldir)\n",
    "    fs0 = glob.glob(labeldir+\"/*\")\n",
    "    for j,f in enumerate(fs0):\n",
    "        if j>=maxsize:break\n",
    "        result.append([i,cv2.imread(f)])\n",
    "\n",
    "pickle.dump(result, open(save_file, \"wb\"))\n",
    "print(\"done!\")"
   ]
  },
  {
   "cell_type": "code",
   "execution_count": 3,
   "metadata": {},
   "outputs": [],
   "source": [
    "import matplotlib.pyplot as plt\n",
    "import keras\n",
    "from keras.models import Sequential\n",
    "from keras.layers import Dense, Dropout, Activation, Flatten\n",
    "from keras.layers import Conv2D, MaxPooling2D\n",
    "\n",
    "import pickle\n",
    "import numpy as np\n",
    "from sklearn.model_selection import train_test_split\n",
    "\n",
    "num_classes = 7\n",
    "im_rows = 80\n",
    "im_cols = 60\n",
    "im_color = 3\n",
    "in_shape = (im_rows, im_cols, im_color)"
   ]
  },
  {
   "cell_type": "code",
   "execution_count": 4,
   "metadata": {},
   "outputs": [],
   "source": [
    "data_file =  \"../dataset/dataset.pickle\"\n",
    "data = pickle.load(open(data_file,\"rb\"))"
   ]
  },
  {
   "cell_type": "code",
   "execution_count": 5,
   "metadata": {},
   "outputs": [],
   "source": [
    "X = []\n",
    "y = []\n",
    "for d in data:\n",
    "    (label,img)=d\n",
    "\n",
    "    y.append(label)\n",
    "    X.append(img)\n",
    "\n",
    "X = np.array(X)\n",
    "y = np.array(y)"
   ]
  },
  {
   "cell_type": "code",
   "execution_count": 6,
   "metadata": {},
   "outputs": [],
   "source": [
    "# train dataとtest dataに分類\n",
    "X_train, X_test, y_train, y_test = train_test_split(X,y,train_size=0.8, test_size=0.2,shuffle=True)\n",
    "\n",
    "X_train = X_train.astype('float32') / 255\n",
    "X_test = X_test.astype('float32') / 255\n",
    "\n",
    "#One-Hot形式前のy_testを保存\n",
    "y_test_org = y_test\n",
    "\n",
    "# ラベルデータをOne-Hot形式に変換\n",
    "y_train = keras.utils.np_utils.to_categorical(y_train, num_classes)\n",
    "y_test = keras.utils.np_utils.to_categorical(y_test, num_classes)\n"
   ]
  },
  {
   "cell_type": "code",
   "execution_count": 7,
   "metadata": {},
   "outputs": [],
   "source": [
    "from keras.layers import RandomRotation, RandomZoom\n",
    "\n",
    "def build_model():\n",
    "    model = Sequential()\n",
    "    model.add(Conv2D(32, (3, 3), padding='same',\n",
    "                    input_shape=in_shape))\n",
    "\n",
    "    #水増し処理を追加\n",
    "    # model.add(RandomTranslation(0.1, 0.1))\n",
    "    model.add(RandomRotation(0.2))\n",
    "    model.add(RandomZoom(0.3))\n",
    "\n",
    "    model.add(Activation('relu'))\n",
    "    model.add(Conv2D(32, (3, 3)))\n",
    "    model.add(Activation('relu'))\n",
    "    model.add(MaxPooling2D(pool_size=(2, 2)))\n",
    "    model.add(Dropout(0.25))\n",
    "\n",
    "    model.add(Conv2D(64, (3, 3), padding='same'))\n",
    "    model.add(Activation('relu'))\n",
    "    model.add(Conv2D(64, (3, 3)))\n",
    "    model.add(Activation('relu'))\n",
    "    model.add(MaxPooling2D(pool_size=(2, 2)))\n",
    "    model.add(Dropout(0.25))\n",
    "\n",
    "    model.add(Flatten())\n",
    "    model.add(Dense(512))\n",
    "    model.add(Activation('relu'))\n",
    "    model.add(Dropout(0.5))\n",
    "    model.add(Dense(num_classes))\n",
    "    model.add(Activation('softmax'))\n",
    "    model.summary()\n",
    "\n",
    "    model.compile(\n",
    "        loss='categorical_crossentropy',\n",
    "        optimizer='adam',\n",
    "        metrics=['accuracy'])\n",
    "\n",
    "    return model"
   ]
  },
  {
   "cell_type": "code",
   "execution_count": 8,
   "metadata": {},
   "outputs": [
    {
     "name": "stdout",
     "output_type": "stream",
     "text": [
      "WARNING:tensorflow:Using a while_loop for converting RngReadAndSkip cause there is no registered converter for this op.\n",
      "WARNING:tensorflow:Using a while_loop for converting Bitcast cause there is no registered converter for this op.\n",
      "WARNING:tensorflow:Using a while_loop for converting Bitcast cause there is no registered converter for this op.\n",
      "WARNING:tensorflow:Using a while_loop for converting StatelessRandomUniformV2 cause there is no registered converter for this op.\n",
      "WARNING:tensorflow:Using a while_loop for converting ImageProjectiveTransformV3 cause there is no registered converter for this op.\n",
      "WARNING:tensorflow:Using a while_loop for converting RngReadAndSkip cause there is no registered converter for this op.\n",
      "WARNING:tensorflow:Using a while_loop for converting Bitcast cause there is no registered converter for this op.\n",
      "WARNING:tensorflow:Using a while_loop for converting Bitcast cause there is no registered converter for this op.\n",
      "WARNING:tensorflow:Using a while_loop for converting StatelessRandomUniformV2 cause there is no registered converter for this op.\n",
      "WARNING:tensorflow:Using a while_loop for converting ImageProjectiveTransformV3 cause there is no registered converter for this op.\n",
      "Model: \"sequential\"\n",
      "_________________________________________________________________\n",
      " Layer (type)                Output Shape              Param #   \n",
      "=================================================================\n",
      " conv2d (Conv2D)             (None, 80, 60, 32)        896       \n",
      "                                                                 \n",
      " random_rotation (RandomRota  (None, 80, 60, 32)       0         \n",
      " tion)                                                           \n",
      "                                                                 \n",
      " random_zoom (RandomZoom)    (None, 80, 60, 32)        0         \n",
      "                                                                 \n",
      " activation (Activation)     (None, 80, 60, 32)        0         \n",
      "                                                                 \n",
      " conv2d_1 (Conv2D)           (None, 78, 58, 32)        9248      \n",
      "                                                                 \n",
      " activation_1 (Activation)   (None, 78, 58, 32)        0         \n",
      "                                                                 \n",
      " max_pooling2d (MaxPooling2D  (None, 39, 29, 32)       0         \n",
      " )                                                               \n",
      "                                                                 \n",
      " dropout (Dropout)           (None, 39, 29, 32)        0         \n",
      "                                                                 \n",
      " conv2d_2 (Conv2D)           (None, 39, 29, 64)        18496     \n",
      "                                                                 \n",
      " activation_2 (Activation)   (None, 39, 29, 64)        0         \n",
      "                                                                 \n",
      " conv2d_3 (Conv2D)           (None, 37, 27, 64)        36928     \n",
      "                                                                 \n",
      " activation_3 (Activation)   (None, 37, 27, 64)        0         \n",
      "                                                                 \n",
      " max_pooling2d_1 (MaxPooling  (None, 18, 13, 64)       0         \n",
      " 2D)                                                             \n",
      "                                                                 \n",
      " dropout_1 (Dropout)         (None, 18, 13, 64)        0         \n",
      "                                                                 \n",
      " flatten (Flatten)           (None, 14976)             0         \n",
      "                                                                 \n",
      " dense (Dense)               (None, 512)               7668224   \n",
      "                                                                 \n",
      " activation_4 (Activation)   (None, 512)               0         \n",
      "                                                                 \n",
      " dropout_2 (Dropout)         (None, 512)               0         \n",
      "                                                                 \n",
      " dense_1 (Dense)             (None, 7)                 3591      \n",
      "                                                                 \n",
      " activation_5 (Activation)   (None, 7)                 0         \n",
      "                                                                 \n",
      "=================================================================\n",
      "Total params: 7,737,383\n",
      "Trainable params: 7,737,383\n",
      "Non-trainable params: 0\n",
      "_________________________________________________________________\n"
     ]
    }
   ],
   "source": [
    "model = build_model()"
   ]
  },
  {
   "cell_type": "code",
   "execution_count": 9,
   "metadata": {},
   "outputs": [
    {
     "name": "stdout",
     "output_type": "stream",
     "text": [
      "Epoch 1/25\n",
      "WARNING:tensorflow:Using a while_loop for converting RngReadAndSkip cause there is no registered converter for this op.\n",
      "WARNING:tensorflow:Using a while_loop for converting Bitcast cause there is no registered converter for this op.\n",
      "WARNING:tensorflow:Using a while_loop for converting Bitcast cause there is no registered converter for this op.\n",
      "WARNING:tensorflow:Using a while_loop for converting StatelessRandomUniformV2 cause there is no registered converter for this op.\n",
      "WARNING:tensorflow:Using a while_loop for converting ImageProjectiveTransformV3 cause there is no registered converter for this op.\n",
      "WARNING:tensorflow:Using a while_loop for converting RngReadAndSkip cause there is no registered converter for this op.\n",
      "WARNING:tensorflow:Using a while_loop for converting Bitcast cause there is no registered converter for this op.\n",
      "WARNING:tensorflow:Using a while_loop for converting Bitcast cause there is no registered converter for this op.\n",
      "WARNING:tensorflow:Using a while_loop for converting StatelessRandomUniformV2 cause there is no registered converter for this op.\n",
      "WARNING:tensorflow:Using a while_loop for converting ImageProjectiveTransformV3 cause there is no registered converter for this op.\n"
     ]
    },
    {
     "name": "stderr",
     "output_type": "stream",
     "text": [
      "C:\\Users\\yasus\\AppData\\Local\\Packages\\PythonSoftwareFoundation.Python.3.9_qbz5n2kfra8p0\\LocalCache\\local-packages\\Python39\\site-packages\\tensorflow\\python\\framework\\indexed_slices.py:444: UserWarning: Converting sparse IndexedSlices(IndexedSlices(indices=Tensor(\"gradient_tape/sequential/random_rotation/loop_body/GatherV2/pfor/Reshape_1:0\", shape=(None,), dtype=int32), values=Tensor(\"gradient_tape/sequential/random_rotation/loop_body/GatherV2/pfor/Reshape:0\", shape=(None, 80, 60, 32), dtype=float32), dense_shape=Tensor(\"gradient_tape/sequential/random_rotation/loop_body/GatherV2/pfor/Cast:0\", shape=(4,), dtype=int32))) to a dense Tensor of unknown shape. This may consume a large amount of memory.\n",
      "  warnings.warn(\n"
     ]
    },
    {
     "name": "stdout",
     "output_type": "stream",
     "text": [
      "WARNING:tensorflow:Using a while_loop for converting RngReadAndSkip cause there is no registered converter for this op.\n",
      "WARNING:tensorflow:Using a while_loop for converting Bitcast cause there is no registered converter for this op.\n",
      "WARNING:tensorflow:Using a while_loop for converting Bitcast cause there is no registered converter for this op.\n",
      "WARNING:tensorflow:Using a while_loop for converting StatelessRandomUniformV2 cause there is no registered converter for this op.\n",
      "WARNING:tensorflow:Using a while_loop for converting ImageProjectiveTransformV3 cause there is no registered converter for this op.\n",
      "WARNING:tensorflow:Using a while_loop for converting RngReadAndSkip cause there is no registered converter for this op.\n",
      "WARNING:tensorflow:Using a while_loop for converting Bitcast cause there is no registered converter for this op.\n",
      "WARNING:tensorflow:Using a while_loop for converting Bitcast cause there is no registered converter for this op.\n",
      "WARNING:tensorflow:Using a while_loop for converting StatelessRandomUniformV2 cause there is no registered converter for this op.\n",
      "WARNING:tensorflow:Using a while_loop for converting ImageProjectiveTransformV3 cause there is no registered converter for this op.\n",
      "16/16 [==============================] - 15s 750ms/step - loss: 2.0337 - accuracy: 0.1746 - val_loss: 1.8920 - val_accuracy: 0.2619\n",
      "Epoch 2/25\n",
      "16/16 [==============================] - 12s 752ms/step - loss: 1.7600 - accuracy: 0.3194 - val_loss: 1.4612 - val_accuracy: 0.5317\n",
      "Epoch 3/25\n",
      "16/16 [==============================] - 11s 719ms/step - loss: 1.5219 - accuracy: 0.4107 - val_loss: 1.3825 - val_accuracy: 0.4683\n",
      "Epoch 4/25\n",
      "16/16 [==============================] - 12s 723ms/step - loss: 1.2853 - accuracy: 0.5198 - val_loss: 0.8710 - val_accuracy: 0.6825\n",
      "Epoch 5/25\n",
      "16/16 [==============================] - 11s 719ms/step - loss: 1.0295 - accuracy: 0.6131 - val_loss: 0.7810 - val_accuracy: 0.7381\n",
      "Epoch 6/25\n",
      "16/16 [==============================] - 11s 713ms/step - loss: 0.9730 - accuracy: 0.6389 - val_loss: 0.8149 - val_accuracy: 0.6984\n",
      "Epoch 7/25\n",
      "16/16 [==============================] - 12s 719ms/step - loss: 0.8665 - accuracy: 0.6726 - val_loss: 0.7995 - val_accuracy: 0.6429\n",
      "Epoch 8/25\n",
      "16/16 [==============================] - 12s 720ms/step - loss: 0.7997 - accuracy: 0.7103 - val_loss: 0.6441 - val_accuracy: 0.8016\n",
      "Epoch 9/25\n",
      "16/16 [==============================] - 12s 736ms/step - loss: 0.7603 - accuracy: 0.7321 - val_loss: 0.7099 - val_accuracy: 0.7381\n",
      "Epoch 10/25\n",
      "16/16 [==============================] - 11s 717ms/step - loss: 0.6567 - accuracy: 0.7401 - val_loss: 0.8743 - val_accuracy: 0.6587\n",
      "Epoch 11/25\n",
      "16/16 [==============================] - 11s 718ms/step - loss: 0.6452 - accuracy: 0.7460 - val_loss: 1.1196 - val_accuracy: 0.5873\n",
      "Epoch 12/25\n",
      "16/16 [==============================] - 12s 720ms/step - loss: 0.6134 - accuracy: 0.7778 - val_loss: 0.4032 - val_accuracy: 0.8492\n",
      "Epoch 13/25\n",
      "16/16 [==============================] - 11s 717ms/step - loss: 0.4912 - accuracy: 0.8135 - val_loss: 1.0446 - val_accuracy: 0.6746\n",
      "Epoch 14/25\n",
      "16/16 [==============================] - 11s 715ms/step - loss: 0.4755 - accuracy: 0.8234 - val_loss: 0.5245 - val_accuracy: 0.8095\n",
      "Epoch 15/25\n",
      "16/16 [==============================] - 12s 722ms/step - loss: 0.4815 - accuracy: 0.8393 - val_loss: 0.4097 - val_accuracy: 0.8492\n",
      "Epoch 16/25\n",
      "16/16 [==============================] - 12s 719ms/step - loss: 0.3735 - accuracy: 0.8829 - val_loss: 0.8586 - val_accuracy: 0.7857\n",
      "Epoch 17/25\n",
      "16/16 [==============================] - 12s 724ms/step - loss: 0.3718 - accuracy: 0.8552 - val_loss: 0.6058 - val_accuracy: 0.8492\n",
      "Epoch 18/25\n",
      "16/16 [==============================] - 12s 719ms/step - loss: 0.3424 - accuracy: 0.8690 - val_loss: 0.3073 - val_accuracy: 0.8968\n",
      "Epoch 19/25\n",
      "16/16 [==============================] - 11s 719ms/step - loss: 0.3055 - accuracy: 0.8889 - val_loss: 0.3335 - val_accuracy: 0.8571\n",
      "Epoch 20/25\n",
      "16/16 [==============================] - 12s 721ms/step - loss: 0.2308 - accuracy: 0.9167 - val_loss: 0.3319 - val_accuracy: 0.8968\n",
      "Epoch 21/25\n",
      "16/16 [==============================] - 12s 724ms/step - loss: 0.2387 - accuracy: 0.9008 - val_loss: 0.7419 - val_accuracy: 0.8016\n",
      "Epoch 22/25\n",
      "16/16 [==============================] - 12s 719ms/step - loss: 0.2440 - accuracy: 0.9147 - val_loss: 0.6428 - val_accuracy: 0.8095\n",
      "Epoch 23/25\n",
      "16/16 [==============================] - 12s 730ms/step - loss: 0.2816 - accuracy: 0.9048 - val_loss: 0.6633 - val_accuracy: 0.8254\n",
      "Epoch 24/25\n",
      "16/16 [==============================] - 12s 743ms/step - loss: 0.2083 - accuracy: 0.9345 - val_loss: 0.6334 - val_accuracy: 0.8095\n",
      "Epoch 25/25\n",
      "16/16 [==============================] - 12s 774ms/step - loss: 0.2884 - accuracy: 0.9087 - val_loss: 0.6395 - val_accuracy: 0.8571\n"
     ]
    }
   ],
   "source": [
    "hist = model.fit(X_train, y_train,\n",
    "    batch_size=128, epochs=30,\n",
    "    verbose=1,\n",
    "    validation_data=(X_test, y_test))"
   ]
  },
  {
   "cell_type": "code",
   "execution_count": 10,
   "metadata": {},
   "outputs": [],
   "source": [
    "from keras.models import load_model\n",
    "from keras.preprocessing import image\n",
    "from keras.applications.imagenet_utils import preprocess_input, decode_predictions\n",
    "import numpy as np\n",
    "import matplotlib.pyplot as plt"
   ]
  },
  {
   "cell_type": "code",
   "execution_count": 11,
   "metadata": {},
   "outputs": [],
   "source": [
    "def model_evaluation(model):\n",
    "    score = model.evaluate(X_test, y_test, verbose=1)\n",
    "    print('正解率=', score[1], 'loss=', score[0])\n",
    "\n",
    "    pred = model.predict(X_test) # modelは学習させたもの\n",
    "    correct_count = [0] * num_classes\n",
    "    count = [0] * num_classes\n",
    "\n",
    "    for i in range(pred.shape[0]):\n",
    "        prediction = np.argmax(pred[i]) # モデルの予測ラベル取得\n",
    "        answer = y_test_org[i]\n",
    "        count[answer] += 1\n",
    "        if prediction == answer:\n",
    "            correct_count[answer] += 1 # 正解数カウント\n",
    "\n",
    "    accuracy = [correct/N for correct, N in zip(correct_count, count)] # 精度算出\n",
    "\n",
    "    for label, acc in enumerate(accuracy):\n",
    "        print('accuracy for label {} : {}'.format(label, acc))\n",
    "    plt.plot(hist.history['accuracy'])\n",
    "    plt.plot(hist.history['val_accuracy'])\n",
    "    plt.title('Accuracy')\n",
    "    plt.legend(['train', 'test'], loc='upper left')\n",
    "    plt.show()\n",
    "    plt.plot(hist.history['loss'])\n",
    "    plt.plot(hist.history['val_loss'])\n",
    "    plt.title('Loss')\n",
    "    plt.legend(['train', 'test'], loc='upper left')\n",
    "    plt.show()"
   ]
  },
  {
   "cell_type": "code",
   "execution_count": 12,
   "metadata": {},
   "outputs": [
    {
     "name": "stdout",
     "output_type": "stream",
     "text": [
      "4/4 [==============================] - 0s 48ms/step - loss: 0.6395 - accuracy: 0.8571\n",
      "正解率= 0.8571428656578064 loss= 0.6395410895347595\n",
      "4/4 [==============================] - 0s 47ms/step\n",
      "accuracy for label 0 : 1.0\n",
      "accuracy for label 1 : 0.48\n",
      "accuracy for label 2 : 0.9411764705882353\n",
      "accuracy for label 3 : 1.0\n",
      "accuracy for label 4 : 0.8571428571428571\n",
      "accuracy for label 5 : 0.9\n",
      "accuracy for label 6 : 1.0\n"
     ]
    },
    {
     "data": {
      "image/png": "[encoded data removed]",
      "text/plain": [
       "<Figure size 432x288 with 1 Axes>"
      ]
     },
     "metadata": {
      "needs_background": "light"
     },
     "output_type": "display_data"
    },
    {
     "data": {
      "image/png": "[encoded data removed]",
      "text/plain": [
       "<Figure size 432x288 with 1 Axes>"
      ]
     },
     "metadata": {
      "needs_background": "light"
     },
     "output_type": "display_data"
    }
   ],
   "source": [
    "model_evaluation(model)"
   ]
  },
  {
   "cell_type": "code",
   "execution_count": 13,
   "metadata": {},
   "outputs": [],
   "source": [
    "from sklearn.model_selection import KFold\n",
    "from sklearn.metrics import confusion_matrix, mean_absolute_error\n",
    "import seaborn as sns"
   ]
  },
  {
   "cell_type": "code",
   "execution_count": 14,
   "metadata": {},
   "outputs": [
    {
     "name": "stdout",
     "output_type": "stream",
     "text": [
      "Model: \"sequential_1\"\n",
      "_________________________________________________________________\n",
      " Layer (type)                Output Shape              Param #   \n",
      "=================================================================\n",
      " conv2d_4 (Conv2D)           (None, 80, 60, 32)        896       \n",
      "                                                                 \n",
      " random_rotation_1 (RandomRo  (None, 80, 60, 32)       0         \n",
      " tation)                                                         \n",
      "                                                                 \n",
      " random_zoom_1 (RandomZoom)  (None, 80, 60, 32)        0         \n",
      "                                                                 \n",
      " activation_6 (Activation)   (None, 80, 60, 32)        0         \n",
      "                                                                 \n",
      " conv2d_5 (Conv2D)           (None, 78, 58, 32)        9248      \n",
      "                                                                 \n",
      " activation_7 (Activation)   (None, 78, 58, 32)        0         \n",
      "                                                                 \n",
      " max_pooling2d_2 (MaxPooling  (None, 39, 29, 32)       0         \n",
      " 2D)                                                             \n",
      "                                                                 \n",
      " dropout_3 (Dropout)         (None, 39, 29, 32)        0         \n",
      "                                                                 \n",
      " conv2d_6 (Conv2D)           (None, 39, 29, 64)        18496     \n",
      "                                                                 \n",
      " activation_8 (Activation)   (None, 39, 29, 64)        0         \n",
      "                                                                 \n",
      " conv2d_7 (Conv2D)           (None, 37, 27, 64)        36928     \n",
      "                                                                 \n",
      " activation_9 (Activation)   (None, 37, 27, 64)        0         \n",
      "                                                                 \n",
      " max_pooling2d_3 (MaxPooling  (None, 18, 13, 64)       0         \n",
      " 2D)                                                             \n",
      "                                                                 \n",
      " dropout_4 (Dropout)         (None, 18, 13, 64)        0         \n",
      "                                                                 \n",
      " flatten_1 (Flatten)         (None, 14976)             0         \n",
      "                                                                 \n",
      " dense_2 (Dense)             (None, 512)               7668224   \n",
      "                                                                 \n",
      " activation_10 (Activation)  (None, 512)               0         \n",
      "                                                                 \n",
      " dropout_5 (Dropout)         (None, 512)               0         \n",
      "                                                                 \n",
      " dense_3 (Dense)             (None, 7)                 3591      \n",
      "                                                                 \n",
      " activation_11 (Activation)  (None, 7)                 0         \n",
      "                                                                 \n",
      "=================================================================\n",
      "Total params: 7,737,383\n",
      "Trainable params: 7,737,383\n",
      "Non-trainable params: 0\n",
      "_________________________________________________________________\n",
      "Epoch 1/20\n",
      "WARNING:tensorflow:Using a while_loop for converting RngReadAndSkip cause there is no registered converter for this op.\n",
      "WARNING:tensorflow:Using a while_loop for converting Bitcast cause there is no registered converter for this op.\n",
      "WARNING:tensorflow:Using a while_loop for converting Bitcast cause there is no registered converter for this op.\n",
      "WARNING:tensorflow:Using a while_loop for converting StatelessRandomUniformV2 cause there is no registered converter for this op.\n",
      "WARNING:tensorflow:Using a while_loop for converting ImageProjectiveTransformV3 cause there is no registered converter for this op.\n",
      "WARNING:tensorflow:Using a while_loop for converting RngReadAndSkip cause there is no registered converter for this op.\n",
      "WARNING:tensorflow:Using a while_loop for converting Bitcast cause there is no registered converter for this op.\n",
      "WARNING:tensorflow:Using a while_loop for converting Bitcast cause there is no registered converter for this op.\n",
      "WARNING:tensorflow:Using a while_loop for converting StatelessRandomUniformV2 cause there is no registered converter for this op.\n",
      "WARNING:tensorflow:Using a while_loop for converting ImageProjectiveTransformV3 cause there is no registered converter for this op.\n"
     ]
    },
    {
     "name": "stderr",
     "output_type": "stream",
     "text": [
      "C:\\Users\\yasus\\AppData\\Local\\Packages\\PythonSoftwareFoundation.Python.3.9_qbz5n2kfra8p0\\LocalCache\\local-packages\\Python39\\site-packages\\tensorflow\\python\\framework\\indexed_slices.py:444: UserWarning: Converting sparse IndexedSlices(IndexedSlices(indices=Tensor(\"gradient_tape/sequential_1/random_rotation_1/loop_body/GatherV2/pfor/Reshape_1:0\", shape=(None,), dtype=int32), values=Tensor(\"gradient_tape/sequential_1/random_rotation_1/loop_body/GatherV2/pfor/Reshape:0\", shape=(None, 80, 60, 32), dtype=float32), dense_shape=Tensor(\"gradient_tape/sequential_1/random_rotation_1/loop_body/GatherV2/pfor/Cast:0\", shape=(4,), dtype=int32))) to a dense Tensor of unknown shape. This may consume a large amount of memory.\n",
      "  warnings.warn(\n"
     ]
    },
    {
     "name": "stdout",
     "output_type": "stream",
     "text": [
      "WARNING:tensorflow:Using a while_loop for converting RngReadAndSkip cause there is no registered converter for this op.\n",
      "WARNING:tensorflow:Using a while_loop for converting Bitcast cause there is no registered converter for this op.\n",
      "WARNING:tensorflow:Using a while_loop for converting Bitcast cause there is no registered converter for this op.\n",
      "WARNING:tensorflow:Using a while_loop for converting StatelessRandomUniformV2 cause there is no registered converter for this op.\n",
      "WARNING:tensorflow:Using a while_loop for converting ImageProjectiveTransformV3 cause there is no registered converter for this op.\n",
      "WARNING:tensorflow:Using a while_loop for converting RngReadAndSkip cause there is no registered converter for this op.\n",
      "WARNING:tensorflow:Using a while_loop for converting Bitcast cause there is no registered converter for this op.\n",
      "WARNING:tensorflow:Using a while_loop for converting Bitcast cause there is no registered converter for this op.\n",
      "WARNING:tensorflow:Using a while_loop for converting StatelessRandomUniformV2 cause there is no registered converter for this op.\n",
      "WARNING:tensorflow:Using a while_loop for converting ImageProjectiveTransformV3 cause there is no registered converter for this op.\n",
      "3/3 [==============================] - 22s 5s/step - loss: 1.9790 - accuracy: 0.1369 - val_loss: 1.9044 - val_accuracy: 0.3155\n",
      "Epoch 2/20\n",
      "3/3 [==============================] - 18s 5s/step - loss: 1.8866 - accuracy: 0.2560 - val_loss: 1.8449 - val_accuracy: 0.4583\n",
      "Epoch 3/20\n",
      "3/3 [==============================] - 18s 5s/step - loss: 1.7831 - accuracy: 0.3571 - val_loss: 1.5703 - val_accuracy: 0.5595\n",
      "Epoch 4/20\n",
      "3/3 [==============================] - 18s 5s/step - loss: 1.5201 - accuracy: 0.4554 - val_loss: 1.2937 - val_accuracy: 0.5595\n",
      "Epoch 5/20\n",
      "3/3 [==============================] - 19s 6s/step - loss: 1.4506 - accuracy: 0.4762 - val_loss: 1.2255 - val_accuracy: 0.5774\n",
      "Epoch 6/20\n",
      "3/3 [==============================] - 18s 5s/step - loss: 1.2455 - accuracy: 0.4940 - val_loss: 1.2244 - val_accuracy: 0.6131\n",
      "Epoch 7/20\n",
      "3/3 [==============================] - 18s 5s/step - loss: 1.2422 - accuracy: 0.5000 - val_loss: 1.1003 - val_accuracy: 0.5893\n",
      "Epoch 8/20\n",
      "3/3 [==============================] - 20s 6s/step - loss: 1.1281 - accuracy: 0.5595 - val_loss: 1.2116 - val_accuracy: 0.5119\n",
      "Epoch 9/20\n",
      "3/3 [==============================] - 20s 6s/step - loss: 1.0039 - accuracy: 0.6131 - val_loss: 1.0760 - val_accuracy: 0.6250\n",
      "Epoch 10/20\n",
      "3/3 [==============================] - 20s 6s/step - loss: 0.9735 - accuracy: 0.6369 - val_loss: 1.0914 - val_accuracy: 0.5833\n",
      "Epoch 11/20\n",
      "3/3 [==============================] - 19s 6s/step - loss: 0.9745 - accuracy: 0.6280 - val_loss: 0.9416 - val_accuracy: 0.5893\n",
      "Epoch 12/20\n",
      "2/3 [===================>..........] - ETA: 8s - loss: 0.8834 - accuracy: 0.6680 "
     ]
    }
   ],
   "source": [
    "kf = KFold(n_splits=3, shuffle=True)\n",
    "\n",
    "all_loss=[]\n",
    "all_val_loss=[]\n",
    "all_acc=[]\n",
    "all_val_acc=[]\n",
    "ep=20\n",
    "\n",
    "for train_index, val_index in kf.split(X_train,y_train):\n",
    "\n",
    "    train_data=X_train[train_index]\n",
    "    train_label=y_train[train_index]\n",
    "    val_data=X_train[val_index]\n",
    "    val_label=y_train[val_index]\n",
    "\n",
    "    model=build_model()\n",
    "    history=model.fit(train_data,\n",
    "                      train_label,\n",
    "                      epochs=ep,\n",
    "                      batch_size=128,\n",
    "                      verbose = 1,\n",
    "                      validation_data=(val_data,val_label))\n",
    "\n",
    "    loss=history.history['loss']\n",
    "    val_loss=history.history['val_loss']\n",
    "    acc=history.history['accuracy']\n",
    "    val_acc=history.history['val_accuracy']\n",
    "\n",
    "    all_loss.append(loss)\n",
    "    all_val_loss.append(val_loss)\n",
    "    all_acc.append(acc)\n",
    "    all_val_acc.append(val_acc)\n",
    "\n",
    "    plt.plot(history.history['accuracy'])\n",
    "    plt.plot(history.history['val_accuracy'])\n",
    "    plt.title('Accuracy')\n",
    "    plt.legend(['train', 'test'], loc='upper left')\n",
    "    plt.show()\n",
    "    plt.plot(history.history['loss'])\n",
    "    plt.plot(history.history['val_loss'])\n",
    "    plt.title('Loss')\n",
    "    plt.legend(['train', 'test'], loc='upper left')\n",
    "    plt.show()\n",
    "\n",
    "\n",
    "ave_all_loss=[\n",
    "    np.mean([x[i] for x in all_loss]) for i in range(ep)]\n",
    "ave_all_val_loss=[\n",
    "    np.mean([x[i] for x in all_val_loss]) for i in range(ep)]\n",
    "ave_all_acc=[\n",
    "    np.mean([x[i] for x in all_acc]) for i in range(ep)]\n",
    "ave_all_val_acc=[\n",
    "    np.mean([x[i] for x in all_val_acc]) for i in range(ep)]"
   ]
  },
  {
   "cell_type": "code",
   "execution_count": null,
   "metadata": {},
   "outputs": [],
   "source": [
    "preds = []\n",
    "pred = model.predict(X_test)\n",
    "y_pred = np.mean(pred, axis=0)\n",
    "print(y_pred)\n",
    "print(f'Test Score MAE: {mean_absolute_error(pred, y_test)}')"
   ]
  },
  {
   "cell_type": "code",
   "execution_count": null,
   "metadata": {},
   "outputs": [],
   "source": [
    "y_test = np.argmax(y_test, axis=1)"
   ]
  },
  {
   "cell_type": "code",
   "execution_count": null,
   "metadata": {},
   "outputs": [],
   "source": [
    "pred = np.argmax(model.predict(X_test), axis=1)\n",
    "plt.figure(figsize=(30,15))\n",
    "cm = confusion_matrix(y_test, pred)\n",
    "sns.heatmap(cm,  annot=True, fmt='d')\n",
    "plt.show()"
   ]
  }
 ],
 "metadata": {
  "kernelspec": {
   "display_name": "Python 3",
   "language": "python",
   "name": "python3"
  },
  "language_info": {
   "codemirror_mode": {
    "name": "ipython",
    "version": 3
   },
   "file_extension": ".py",
   "mimetype": "text/x-python",
   "name": "python",
   "nbconvert_exporter": "python",
   "pygments_lexer": "ipython3",
   "version": "3.9.13"
  },
  "orig_nbformat": 4,
  "vscode": {
   "interpreter": {
    "hash": "645002f91107cd0a4a3c1edaaec9aae20745b4a9aa82cf82de3d60e2932c3c3c"
   }
  }
 },
 "nbformat": 4,
 "nbformat_minor": 2
}
